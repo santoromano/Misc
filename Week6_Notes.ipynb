{
 "cells": [
  {
   "cell_type": "markdown",
   "id": "f75f7f62-99d6-4919-b527-e0125ea40e6a",
   "metadata": {},
   "source": [
    "# Week 6 Notes (JSON & API)\n",
    "- JSON represents data as nested lists and dictionaries\n"
   ]
  },
  {
   "cell_type": "code",
   "execution_count": 11,
   "id": "004cc10f-c72f-46a4-8682-2f9f862c9e2c",
   "metadata": {},
   "outputs": [
    {
     "name": "stdout",
     "output_type": "stream",
     "text": [
      "<class 'dict'>\n",
      "Name: Chuck\n",
      "Hide: yes\n"
     ]
    }
   ],
   "source": [
    "import json\n",
    "data = ''' {\"name\" : \"Chuck\",\n",
    "            \"phone\" : {\n",
    "                \"type\" : \"intl\",\n",
    "                \"number\" : \"+1 734 303 4456\"\n",
    "                },\n",
    "            \"email\" : {\n",
    "                \"hide\" : \"yes\"\n",
    "                }\n",
    "            }'''\n",
    "info = json.loads(data) # load from string\n",
    "print(type(info))\n",
    "print('Name:', info[\"name\"])\n",
    "print(\"Hide:\", info[\"email\"][\"hide\"])"
   ]
  },
  {
   "cell_type": "markdown",
   "id": "26981525-35a8-44bd-8ece-05828f48edbd",
   "metadata": {},
   "source": [
    "## API\n",
    "### Google API\n",
    "- the Google API allows the input of a rough address, which Google will convert to a proper address including coordinates"
   ]
  },
  {
   "cell_type": "code",
   "execution_count": 11,
   "id": "20ba06f7-77be-46ca-af0f-eb6947ec52a4",
   "metadata": {},
   "outputs": [
    {
     "name": "stdin",
     "output_type": "stream",
     "text": [
      "Enter location:  toronto\n"
     ]
    },
    {
     "name": "stdout",
     "output_type": "stream",
     "text": [
      "Retrieving http://py4e-data.dr-chuck.net/json?address=toronto&key=42\n",
      "Retrieved 1708 characters\n",
      "{'bounds': {'northeast': {'lat': 43.8554579, 'lng': -79.1168971}, 'southwest': {'lat': 43.5810245, 'lng': -79.639219}}, 'location': {'lat': 43.653226, 'lng': -79.3831843}, 'location_type': 'APPROXIMATE', 'viewport': {'northeast': {'lat': 43.8554579, 'lng': -79.1168971}, 'southwest': {'lat': 43.5810245, 'lng': -79.639219}}}\n",
      "lat 43.653226 lng -79.3831843\n",
      "Toronto, ON, Canada\n"
     ]
    }
   ],
   "source": [
    "import urllib.request, urllib.parse, urllib.error\n",
    "import json\n",
    "import ssl\n",
    "\n",
    "api_key = False\n",
    "# If you have a Google Places API key, enter it here\n",
    "# api_key = 'AIzaSy___IDByT70'\n",
    "# https://developers.google.com/maps/documentation/geocoding/intro\n",
    "\n",
    "if api_key is False:\n",
    "    api_key = 42\n",
    "    serviceurl = 'http://py4e-data.dr-chuck.net/json?'\n",
    "else :\n",
    "    serviceurl = 'https://maps.googleapis.com/maps/api/geocode/json?'\n",
    "\n",
    "# Ignore SSL certificate errors\n",
    "ctx = ssl.create_default_context()\n",
    "ctx.check_hostname = False\n",
    "ctx.verify_mode = ssl.CERT_NONE\n",
    "\n",
    "while True:\n",
    "    address = input('Enter location: ')\n",
    "    if len(address) < 1: break\n",
    "\n",
    "    # adds our input to the API, without needing to know the exact URL syntax (because of 'encode')\n",
    "    parms = dict()\n",
    "    parms['address'] = address\n",
    "    if api_key is not False: parms['key'] = api_key\n",
    "    url = serviceurl + urllib.parse.urlencode(parms)\n",
    "\n",
    "    # open URl, gets handle, reads and decodes to string\n",
    "    print('Retrieving', url)\n",
    "    uh = urllib.request.urlopen(url, context=ctx)\n",
    "    data = uh.read().decode()\n",
    "    print('Retrieved', len(data), 'characters')\n",
    "\n",
    "    # parses Google data, get back a dictionary object ('js')\n",
    "    try:\n",
    "        js = json.loads(data)\n",
    "    except:\n",
    "        js = None\n",
    "\n",
    "    if not js or 'status' not in js or js['status'] != 'OK':\n",
    "        print('==== Failure To Retrieve ====')\n",
    "        #print(data)\n",
    "        continue\n",
    "\n",
    "    #print(json.dumps(js, indent=4)) # prints the data\n",
    "    #print(js['results'][0]['geometry'])\n",
    "    \n",
    "    # crawls through the dictionary to extract the correct data\n",
    "    lat = js['results'][0]['geometry']['location']['lat']\n",
    "    lng = js['results'][0]['geometry']['location']['lng']\n",
    "    print('lat', lat, 'lng', lng)\n",
    "    location = js['results'][0]['formatted_address']\n",
    "    print(location)\n",
    "    break"
   ]
  },
  {
   "cell_type": "markdown",
   "id": "073c9996-9194-4cbf-a8cb-e602b9b4e5db",
   "metadata": {},
   "source": [
    "## Assignment: Extracting data from JSON\n",
    "https://www.py4e.com/tools/python-data/?PHPSESSID=e629a13dbf3896d2819c2fd08e0f63ca"
   ]
  },
  {
   "cell_type": "code",
   "execution_count": 27,
   "id": "5bd8b2b5-234c-40b7-b4a5-ce818cf82bef",
   "metadata": {},
   "outputs": [
    {
     "name": "stdout",
     "output_type": "stream",
     "text": [
      "2622\n"
     ]
    }
   ],
   "source": [
    "sample = 'http://py4e-data.dr-chuck.net/comments_42.json'\n",
    "actual = 'http://py4e-data.dr-chuck.net/comments_1428957.json'\n",
    "\n",
    "import urllib.request, urllib.parse, urllib.error\n",
    "import json\n",
    "\n",
    "handle = urllib.request.urlopen(actual)\n",
    "text = handle.read().decode()\n",
    "data = json.loads(text)\n",
    "#print(json.dumps(data, indent=2))\n",
    "\n",
    "#print(data['comments'][0]['count'])\n",
    "\n",
    "counts = []\n",
    "for i in range(len(data['comments'])):\n",
    "    counts.append(int(data['comments'][i]['count']))\n",
    "print(sum(counts))"
   ]
  },
  {
   "cell_type": "markdown",
   "id": "76b7a7d1-59ae-408d-a6e2-a752a2c5f59b",
   "metadata": {},
   "source": [
    "## Assignment: Using the GeoJSON API"
   ]
  },
  {
   "cell_type": "code",
   "execution_count": 36,
   "id": "ddffdf06-b997-47b7-992d-7a8140a0d6e3",
   "metadata": {},
   "outputs": [
    {
     "name": "stdout",
     "output_type": "stream",
     "text": [
      "ChIJj0I7GjiJGxURfRsy2hSSFP0\n"
     ]
    }
   ],
   "source": [
    "import urllib.request, urllib.parse, urllib.error\n",
    "import json\n",
    "\n",
    "test_location = \"South Federal University\"\n",
    "actual_location = \"Jordan University of Science and Technology\"\n",
    "\n",
    "api_url = 'http://py4e-data.dr-chuck.net/json?'\n",
    "parameters = {}\n",
    "parameters['key'] = 42\n",
    "parameters['address'] = actual_location\n",
    "\n",
    "url = api_url + urllib.parse.urlencode(parameters)\n",
    "handle = urllib.request.urlopen(url)\n",
    "bytes = handle.read().decode()\n",
    "data = json.loads(bytes)\n",
    "\n",
    "print(data['results'][0]['place_id'])"
   ]
  },
  {
   "cell_type": "code",
   "execution_count": null,
   "id": "a8abab6f-35db-44e7-b965-d95994d6b360",
   "metadata": {},
   "outputs": [],
   "source": []
  }
 ],
 "metadata": {
  "kernelspec": {
   "display_name": "Python 3 (ipykernel)",
   "language": "python",
   "name": "python3"
  },
  "language_info": {
   "codemirror_mode": {
    "name": "ipython",
    "version": 3
   },
   "file_extension": ".py",
   "mimetype": "text/x-python",
   "name": "python",
   "nbconvert_exporter": "python",
   "pygments_lexer": "ipython3",
   "version": "3.9.12"
  }
 },
 "nbformat": 4,
 "nbformat_minor": 5
}
