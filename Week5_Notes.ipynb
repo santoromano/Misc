{
 "cells": [
  {
   "cell_type": "markdown",
   "id": "06f3afad-a383-4835-b364-22d425f41da4",
   "metadata": {},
   "source": [
    "# Week 5 Notes (Data on the Web)\n",
    "## XML Basics\n",
    "- there are severl levels to XML lines, which are indented for readability, each tag represening a node and subsequent child nodes\n"
   ]
  },
  {
   "cell_type": "raw",
   "id": "9b3c9713-6bf9-487a-bfa2-b386ff0da277",
   "metadata": {},
   "source": [
    "Ex.\n",
    "<person>\n",
    "    <name> Chuck </name>\n",
    "    <phone> type=\"intl\" >\n",
    "        +1 734 303 4456 </phone>\n",
    "    <email> hide=\"yes\" />\n",
    "</person>    \n",
    "\n",
    "<person>, <name>, etc are 'start tags'\n",
    "</person>, </name>, etc are 'end tags'\n",
    "Chuck, etc are 'text content'\n",
    "type=\"intl\" are 'attributes'\n",
    "/> are \"self closing tags\""
   ]
  },
  {
   "cell_type": "markdown",
   "id": "23443aac-8db8-4514-8f57-65701f9c00ef",
   "metadata": {},
   "source": [
    "## Parsing XML"
   ]
  },
  {
   "cell_type": "code",
   "execution_count": 62,
   "id": "8fdba2dd-d3db-4d05-b497-ed1f5273e55e",
   "metadata": {},
   "outputs": [
    {
     "name": "stdout",
     "output_type": "stream",
     "text": [
      "Name: Chuck\n",
      "Attr: yes\n",
      "User count: 2\n",
      "Name: Chuck\n",
      "Id: 001\n",
      "Attribute: 2\n",
      "Name: Brent\n",
      "Id: 009\n",
      "Attribute: 7\n",
      "[<Element 'user' at 0x10c55eea0>, <Element 'user' at 0x10c55eb30>]\n"
     ]
    }
   ],
   "source": [
    "import xml.etree.ElementTree as ET\n",
    "\n",
    "# typically XML would be read from a URL but to keep it simple a multi-line string is used\n",
    "data = '''<person>\n",
    "            <name>Chuck</name>\n",
    "            <phone> type=\"intl\" >\n",
    "                +1 734 303 4456 \n",
    "            </phone>\n",
    "            <email hide=\"yes\" />\n",
    "          </person>'''  \n",
    "\n",
    "tree = ET.fromstring(data)\n",
    "print('Name:', tree.find('name').text) # tree.find() used to find the 'name' child node, and then '.text' is used to extract just the text\n",
    "print('Attr:', tree.find('email').get('hide')) # gets the email node, and 'get' extracts the hide attribute\n",
    "\n",
    "\n",
    "# Parsing multiple child tags\n",
    "data1 = '''<stuff>\n",
    "                <users>\n",
    "                    <user x=\"2\">\n",
    "                        <id>001</id>\n",
    "                        <name>Chuck</name>\n",
    "                    </user>\n",
    "                    <user x=\"7\">\n",
    "                        <id>009</id>\n",
    "                        <name>Brent</name>\n",
    "                    </user>\n",
    "                </users>\n",
    "            </stuff>'''\n",
    "stuff = ET.fromstring(data1)\n",
    "lst = stuff.findall('users/user') # generates a list of each tag, that is each user node\n",
    "print('User count:', len(lst))\n",
    "for item in lst:\n",
    "    print('Name:', item.find('name').text)\n",
    "    print('Id:', item.find('id').text)\n",
    "    print('Attribute:', item.get('x'))"
   ]
  },
  {
   "cell_type": "markdown",
   "id": "53180aee-5dea-4791-b3a0-903f7b5115b8",
   "metadata": {},
   "source": [
    "## Assignment: Extracting data from XML\n",
    "https://www.py4e.com/tools/python-data/?PHPSESSID=a0db6e5e63b6a4e9cf41a34c621a3fb7\n"
   ]
  },
  {
   "cell_type": "code",
   "execution_count": 78,
   "id": "745b4117-7b09-4ad9-8430-e83a6b678cf1",
   "metadata": {},
   "outputs": [
    {
     "name": "stdout",
     "output_type": "stream",
     "text": [
      "2313\n"
     ]
    }
   ],
   "source": [
    "sample = 'http://py4e-data.dr-chuck.net/comments_42.xml'\n",
    "actual = 'http://py4e-data.dr-chuck.net/comments_1428956.xml'\n",
    "\n",
    "import urllib.request, urllib.parse, urllib.error\n",
    "import xml.etree.ElementTree as ET\n",
    "\n",
    "handle = urllib.request.urlopen(actual) # creates filehandle from url\n",
    "data = handle.read().decode() # reads data in handle, and decodes from byte to string\n",
    "tree = ET.fromstring(data) # converts string to element\n",
    "\n",
    "counts = tree.findall('comments/comment') # creates list of all nodes below 'comment'\n",
    "nums = list()\n",
    "for item in counts:\n",
    "    #print(item.find('count').text)\n",
    "    nums.append(int(item.find('count').text))\n",
    "\n",
    "total = sum(nums)\n",
    "print(total)    "
   ]
  },
  {
   "cell_type": "code",
   "execution_count": null,
   "id": "92e4bb9d-0a5c-4f31-9f84-8be0c7d126f8",
   "metadata": {},
   "outputs": [],
   "source": []
  }
 ],
 "metadata": {
  "kernelspec": {
   "display_name": "Python 3 (ipykernel)",
   "language": "python",
   "name": "python3"
  },
  "language_info": {
   "codemirror_mode": {
    "name": "ipython",
    "version": 3
   },
   "file_extension": ".py",
   "mimetype": "text/x-python",
   "name": "python",
   "nbconvert_exporter": "python",
   "pygments_lexer": "ipython3",
   "version": "3.9.12"
  }
 },
 "nbformat": 4,
 "nbformat_minor": 5
}
